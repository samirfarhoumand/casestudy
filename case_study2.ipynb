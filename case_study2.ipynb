{
 "cells": [
  {
   "cell_type": "markdown",
   "id": "106d7f52",
   "metadata": {},
   "source": [
    "## DDA Full Stack Interview\n",
    "Project 2\\\n",
    "Samir Farhoumand"
   ]
  },
  {
   "cell_type": "markdown",
   "id": "3aad3045",
   "metadata": {},
   "source": [
    "### Case Study 2"
   ]
  },
  {
   "cell_type": "code",
   "execution_count": 1,
   "id": "d4a0bd5c",
   "metadata": {},
   "outputs": [
    {
     "data": {
      "text/html": [
       "<div>\n",
       "<style scoped>\n",
       "    .dataframe tbody tr th:only-of-type {\n",
       "        vertical-align: middle;\n",
       "    }\n",
       "\n",
       "    .dataframe tbody tr th {\n",
       "        vertical-align: top;\n",
       "    }\n",
       "\n",
       "    .dataframe thead th {\n",
       "        text-align: right;\n",
       "    }\n",
       "</style>\n",
       "<table border=\"1\" class=\"dataframe\">\n",
       "  <thead>\n",
       "    <tr style=\"text-align: right;\">\n",
       "      <th></th>\n",
       "      <th>Unnamed: 0</th>\n",
       "      <th>customer_email</th>\n",
       "      <th>net_revenue</th>\n",
       "      <th>year</th>\n",
       "    </tr>\n",
       "  </thead>\n",
       "  <tbody>\n",
       "    <tr>\n",
       "      <th>0</th>\n",
       "      <td>0</td>\n",
       "      <td>nhknapwsbx@gmail.com</td>\n",
       "      <td>249.92</td>\n",
       "      <td>2015</td>\n",
       "    </tr>\n",
       "    <tr>\n",
       "      <th>1</th>\n",
       "      <td>1</td>\n",
       "      <td>joiuzbvcpn@gmail.com</td>\n",
       "      <td>87.61</td>\n",
       "      <td>2015</td>\n",
       "    </tr>\n",
       "    <tr>\n",
       "      <th>2</th>\n",
       "      <td>2</td>\n",
       "      <td>ukkjctepxt@gmail.com</td>\n",
       "      <td>168.38</td>\n",
       "      <td>2015</td>\n",
       "    </tr>\n",
       "    <tr>\n",
       "      <th>3</th>\n",
       "      <td>3</td>\n",
       "      <td>gykatilzrt@gmail.com</td>\n",
       "      <td>62.40</td>\n",
       "      <td>2015</td>\n",
       "    </tr>\n",
       "    <tr>\n",
       "      <th>4</th>\n",
       "      <td>4</td>\n",
       "      <td>mmsgsrtxah@gmail.com</td>\n",
       "      <td>43.08</td>\n",
       "      <td>2015</td>\n",
       "    </tr>\n",
       "    <tr>\n",
       "      <th>...</th>\n",
       "      <td>...</td>\n",
       "      <td>...</td>\n",
       "      <td>...</td>\n",
       "      <td>...</td>\n",
       "    </tr>\n",
       "    <tr>\n",
       "      <th>685922</th>\n",
       "      <td>685922</td>\n",
       "      <td>qzqttwiftu@gmail.com</td>\n",
       "      <td>184.58</td>\n",
       "      <td>2017</td>\n",
       "    </tr>\n",
       "    <tr>\n",
       "      <th>685923</th>\n",
       "      <td>685923</td>\n",
       "      <td>pjodiifjop@gmail.com</td>\n",
       "      <td>133.03</td>\n",
       "      <td>2017</td>\n",
       "    </tr>\n",
       "    <tr>\n",
       "      <th>685924</th>\n",
       "      <td>685924</td>\n",
       "      <td>appaplmgko@gmail.com</td>\n",
       "      <td>200.98</td>\n",
       "      <td>2017</td>\n",
       "    </tr>\n",
       "    <tr>\n",
       "      <th>685925</th>\n",
       "      <td>685925</td>\n",
       "      <td>wvkpmwsgck@gmail.com</td>\n",
       "      <td>235.35</td>\n",
       "      <td>2017</td>\n",
       "    </tr>\n",
       "    <tr>\n",
       "      <th>685926</th>\n",
       "      <td>685926</td>\n",
       "      <td>aregboumbw@gmail.com</td>\n",
       "      <td>208.43</td>\n",
       "      <td>2017</td>\n",
       "    </tr>\n",
       "  </tbody>\n",
       "</table>\n",
       "<p>685927 rows × 4 columns</p>\n",
       "</div>"
      ],
      "text/plain": [
       "        Unnamed: 0         customer_email  net_revenue  year\n",
       "0                0   nhknapwsbx@gmail.com       249.92  2015\n",
       "1                1   joiuzbvcpn@gmail.com        87.61  2015\n",
       "2                2   ukkjctepxt@gmail.com       168.38  2015\n",
       "3                3   gykatilzrt@gmail.com        62.40  2015\n",
       "4                4   mmsgsrtxah@gmail.com        43.08  2015\n",
       "...            ...                    ...          ...   ...\n",
       "685922      685922   qzqttwiftu@gmail.com       184.58  2017\n",
       "685923      685923   pjodiifjop@gmail.com       133.03  2017\n",
       "685924      685924   appaplmgko@gmail.com       200.98  2017\n",
       "685925      685925   wvkpmwsgck@gmail.com       235.35  2017\n",
       "685926      685926   aregboumbw@gmail.com       208.43  2017\n",
       "\n",
       "[685927 rows x 4 columns]"
      ]
     },
     "execution_count": 1,
     "metadata": {},
     "output_type": "execute_result"
    }
   ],
   "source": [
    "#import pandas\n",
    "import pandas as pd\n",
    "import matplotlib.pyplot as plt\n",
    "import seaborn as sns\n",
    "import numpy as np\n",
    "\n",
    "#downloaded file, had issue with encoding and so downloaded file \n",
    "file = \"casestudy.csv\"\n",
    "\n",
    "df = pd.read_csv(file)\n",
    "\n",
    "df"
   ]
  },
  {
   "cell_type": "markdown",
   "id": "5adfcb51",
   "metadata": {},
   "source": [
    "Let's drop the unnamed column and perform summary."
   ]
  },
  {
   "cell_type": "code",
   "execution_count": 2,
   "id": "289d1ed9",
   "metadata": {},
   "outputs": [
    {
     "name": "stdout",
     "output_type": "stream",
     "text": [
      "<class 'pandas.core.frame.DataFrame'>\n",
      "RangeIndex: 685927 entries, 0 to 685926\n",
      "Data columns (total 3 columns):\n",
      " #   Column          Non-Null Count   Dtype  \n",
      "---  ------          --------------   -----  \n",
      " 0   customer_email  685927 non-null  object \n",
      " 1   net_revenue     685927 non-null  float64\n",
      " 2   year            685927 non-null  int64  \n",
      "dtypes: float64(1), int64(1), object(1)\n",
      "memory usage: 15.7+ MB\n",
      "None\n",
      "         net_revenue           year\n",
      "count  685927.000000  685927.000000\n",
      "mean      125.647755    2016.027252\n",
      "std        71.854528       0.837203\n",
      "min         1.000000    2015.000000\n",
      "25%        63.510000    2015.000000\n",
      "50%       125.730000    2016.000000\n",
      "75%       187.820000    2017.000000\n",
      "max       250.000000    2017.000000\n"
     ]
    }
   ],
   "source": [
    "df = df.drop(\"Unnamed: 0\", axis = 1)\n",
    "#let's investigate our dataframe\n",
    "\n",
    "def investigate(data):\n",
    "    print(data.info())\n",
    "    print(data.describe())\n",
    "    \n",
    "investigate(df)"
   ]
  },
  {
   "cell_type": "markdown",
   "id": "02faeff6",
   "metadata": {},
   "source": [
    "It looks like we have no null or missing values. "
   ]
  },
  {
   "cell_type": "markdown",
   "id": "1520c62e",
   "metadata": {},
   "source": [
    "## For each year we need the following information:"
   ]
  },
  {
   "cell_type": "markdown",
   "id": "dd8caead",
   "metadata": {},
   "source": [
    "### 1) Total revenue for the current year"
   ]
  },
  {
   "cell_type": "code",
   "execution_count": 3,
   "id": "5fab0d06",
   "metadata": {},
   "outputs": [
    {
     "name": "stdout",
     "output_type": "stream",
     "text": [
      "Total Revenue from 2017: $31417495.03\n"
     ]
    }
   ],
   "source": [
    "#find customers in 2017\n",
    "customers_2017 = df[df[\"year\"]==2017]\n",
    "#sum the net revenue for 2017 customers\n",
    "customer_revenue_2017 = customers_2017[\"net_revenue\"].sum()\n",
    "print(f'Total Revenue from 2017: ${customer_revenue_2017:.2f}')"
   ]
  },
  {
   "cell_type": "markdown",
   "id": "65b02526",
   "metadata": {},
   "source": [
    "### 2) New Customer Revenue e.g., new customers not present in previous year only"
   ]
  },
  {
   "cell_type": "code",
   "execution_count": 4,
   "id": "c837bc97",
   "metadata": {},
   "outputs": [
    {
     "name": "stdout",
     "output_type": "stream",
     "text": [
      "New Customer Revenue from 2017: $28776235.04\n"
     ]
    }
   ],
   "source": [
    "#create df for customers in 2016\n",
    "customers_2016 = df[df[\"year\"]== 2016]\n",
    "#remove customers from customer_2017 that appear in customer_2016\n",
    "df2 = customers_2017[np.logical_not(customers_2017[\"customer_email\"]\n",
    "                                    .isin(customers_2016['customer_email']))]\n",
    "new_customer_revenue_2017 = df2[\"net_revenue\"].sum()\n",
    "print(f'New Customer Revenue from 2017: ${new_customer_revenue_2017:.2f}')"
   ]
  },
  {
   "cell_type": "markdown",
   "id": "85b82bf8",
   "metadata": {},
   "source": [
    "### 3) Existing Customer Growth. To calculate this, use the Revenue of existing customers for current year –(minus) Revenue of existing customers from the previous year"
   ]
  },
  {
   "cell_type": "code",
   "execution_count": 5,
   "id": "92485778",
   "metadata": {},
   "outputs": [
    {
     "name": "stdout",
     "output_type": "stream",
     "text": [
      "Existing Customer Revenue from 2017: $20611.34\n"
     ]
    }
   ],
   "source": [
    "#make dfs for customers that exist in both years\n",
    "df3 = customers_2017[customers_2017['customer_email'].\n",
    "                     isin(customers_2016['customer_email'])]\n",
    "df4 = customers_2016[customers_2016['customer_email'].\n",
    "                     isin(customers_2017['customer_email'])]\n",
    "#sum their net revenues\n",
    "existing_customer_revenue_2017 = df3[\"net_revenue\"].sum()\n",
    "existing_customer_revenue_2016 = df4[\"net_revenue\"].sum()\n",
    "#subtract their revenues\n",
    "existing_customer_growth_2017 = existing_customer_revenue_2017-existing_customer_revenue_2016\n",
    "print(f'Existing Customer Revenue from 2017: ${existing_customer_growth_2017:.2f}')"
   ]
  },
  {
   "cell_type": "markdown",
   "id": "18cb3584",
   "metadata": {},
   "source": [
    "### 4)  Revenue lost from attrition"
   ]
  },
  {
   "cell_type": "code",
   "execution_count": 6,
   "id": "be1ac2b7",
   "metadata": {},
   "outputs": [
    {
     "name": "stdout",
     "output_type": "stream",
     "text": [
      "Revenue Lost from Attrition: $44586295.64\n"
     ]
    }
   ],
   "source": [
    "#to calculate this, I will find total revenue from clients who purchased in \n",
    "#2015 but did not purchase in 2016 or 2017, plus total revenue from clients \n",
    "#who purchased 2016 and not 2017.\n",
    "#make df for customers from 2015\n",
    "customers_2015 = df[df[\"year\"]== 2015]\n",
    "#make df for 2015 customers who did not purchase in 2016 or 2017\n",
    "df5 = customers_2015[np.logical_not(customers_2015[\"customer_email\"]\n",
    "                                    .isin(customers_2016['customer_email']))]\n",
    "df5 = df5[np.logical_not(df5[\"customer_email\"]\n",
    "                         .isin(customers_2017['customer_email']))]\n",
    "#make df for 2016 customers who did not purchase in 2017\n",
    "df6 = customers_2016[np.logical_not(customers_2016[\"customer_email\"]\n",
    "                                    .isin(customers_2017['customer_email']))]\n",
    "#sum revenues from two dfs\n",
    "revenue_lost_from_2015cohort = df5[\"net_revenue\"].sum()\n",
    "revenue_lost_from_2016cohort = df6[\"net_revenue\"].sum()\n",
    "#combine revenues\n",
    "revenue_lost_from_attrition = revenue_lost_from_2015cohort + revenue_lost_from_2016cohort\n",
    "print(f'Revenue Lost from Attrition: ${revenue_lost_from_attrition:.2f}')"
   ]
  },
  {
   "cell_type": "markdown",
   "id": "f00bc141",
   "metadata": {},
   "source": [
    "### 5)  Existing Customer Revenue Current Year"
   ]
  },
  {
   "cell_type": "code",
   "execution_count": 7,
   "id": "26bc822f",
   "metadata": {},
   "outputs": [
    {
     "name": "stdout",
     "output_type": "stream",
     "text": [
      "Existing Customer Revenue 2017: $2641259.99\n"
     ]
    }
   ],
   "source": [
    "print(f'Existing Customer Revenue 2017: ${existing_customer_revenue_2017:.2f}')"
   ]
  },
  {
   "cell_type": "markdown",
   "id": "c43ba658",
   "metadata": {},
   "source": [
    "### 6) Existing Customer Revenue Prior Year"
   ]
  },
  {
   "cell_type": "code",
   "execution_count": 8,
   "id": "a583b6a0",
   "metadata": {},
   "outputs": [
    {
     "name": "stdout",
     "output_type": "stream",
     "text": [
      "Existing Customer Revenue 2016: $7485452.58\n"
     ]
    }
   ],
   "source": [
    "#Assuming this means customers in 2016 who also existed in 2015\n",
    "df7 = customers_2016[customers_2016['customer_email'].\n",
    "                     isin(customers_2015['customer_email'])]\n",
    "existing_customer_revenue_2016b = df7[\"net_revenue\"].sum()\n",
    "print(f'Existing Customer Revenue 2016: ${existing_customer_revenue_2016b:.2f}')"
   ]
  },
  {
   "cell_type": "markdown",
   "id": "41877b8e",
   "metadata": {},
   "source": [
    "### 7) Total Customers Current Year"
   ]
  },
  {
   "cell_type": "code",
   "execution_count": 9,
   "id": "d983db5d",
   "metadata": {},
   "outputs": [
    {
     "data": {
      "text/plain": [
       "249987"
      ]
     },
     "execution_count": 9,
     "metadata": {},
     "output_type": "execute_result"
    }
   ],
   "source": [
    "np.unique(customers_2017[\"customer_email\"]).shape[0]"
   ]
  },
  {
   "cell_type": "markdown",
   "id": "a189dd79",
   "metadata": {},
   "source": [
    "### 8) Total Customers Previous Year"
   ]
  },
  {
   "cell_type": "code",
   "execution_count": 10,
   "id": "897ea598",
   "metadata": {},
   "outputs": [
    {
     "data": {
      "text/plain": [
       "204646"
      ]
     },
     "execution_count": 10,
     "metadata": {},
     "output_type": "execute_result"
    }
   ],
   "source": [
    "np.unique(customers_2016[\"customer_email\"]).shape[0]"
   ]
  },
  {
   "cell_type": "markdown",
   "id": "07e5cb12",
   "metadata": {},
   "source": [
    "### 9)  New Customers"
   ]
  },
  {
   "cell_type": "code",
   "execution_count": 11,
   "id": "fd9bbc9a",
   "metadata": {},
   "outputs": [
    {
     "data": {
      "text/plain": [
       "array([' aaaiekepot@gmail.com', ' aaampblnzo@gmail.com',\n",
       "       ' aaanfhekoc@gmail.com', ..., 'zzzmkaruhf@gmail.com',\n",
       "       'zzznqseiwv@gmail.com', 'zzzoxtrfic@gmail.com'], dtype=object)"
      ]
     },
     "execution_count": 11,
     "metadata": {},
     "output_type": "execute_result"
    }
   ],
   "source": [
    "#assuming this means a list of customers in 2017 who were\n",
    "#not customers in 2015 or 2016\n",
    "df8 = customers_2017[np.logical_not(customers_2017[\"customer_email\"]\n",
    "                                    .isin(customers_2015['customer_email']))]\n",
    "df8 = df8[np.logical_not(df8[\"customer_email\"]\n",
    "                                    .isin(customers_2016['customer_email']))]\n",
    "new_customers = np.unique(df8[\"customer_email\"])\n",
    "new_customers"
   ]
  },
  {
   "cell_type": "markdown",
   "id": "6a807002",
   "metadata": {},
   "source": [
    "### 10) Lost Customers"
   ]
  },
  {
   "cell_type": "code",
   "execution_count": 12,
   "id": "99371e31",
   "metadata": {},
   "outputs": [
    {
     "data": {
      "text/plain": [
       "array([' aaagldjgdt@gmail.com', ' aaaicvtnzx@gmail.com',\n",
       "       ' aaaihliwuo@gmail.com', ..., 'zzysesrqck@gmail.com',\n",
       "       'zzyyqigvjs@gmail.com', 'zzzwmlwwmn@gmail.com'], dtype=object)"
      ]
     },
     "execution_count": 12,
     "metadata": {},
     "output_type": "execute_result"
    }
   ],
   "source": [
    "#assuming this means clients from 2015 that haven't returned\n",
    "#in 2016 or 2017, and and clients from 2016 that haven't returned in 2017\n",
    "lost_customers2015 = np.unique(df5[\"customer_email\"])\n",
    "lost_customers2016 = np.unique(df6[\"customer_email\"])\n",
    "lost_customers = np.append(lost_customers2015, lost_customers2016)\n",
    "lost_customers"
   ]
  },
  {
   "cell_type": "markdown",
   "id": "6ee8d072",
   "metadata": {},
   "source": [
    "### 11) Unique Plots"
   ]
  },
  {
   "cell_type": "code",
   "execution_count": 13,
   "id": "802c2c9a",
   "metadata": {},
   "outputs": [
    {
     "data": {
      "image/png": "[encoded data removed]",
      "text/plain": [
       "<Figure size 432x216 with 1 Axes>"
      ]
     },
     "metadata": {
      "needs_background": "light"
     },
     "output_type": "display_data"
    }
   ],
   "source": [
    "results = df.groupby(\"year\").sum()\n",
    "years = [year for year, df in df.groupby(\"year\")]\n",
    "plt.figure(figsize = (6,3))\n",
    "plt.bar(years, results[\"net_revenue\"], color = \"green\",\n",
    "       width = .5)\n",
    "plt.ylabel(\"Net Revenue\", fontsize = 14)\n",
    "plt.xlabel(\"Year\", fontsize = 14)\n",
    "plt.title(\"Net Revenue over Year\", fontsize = 15)\n",
    "plt.show()"
   ]
  },
  {
   "cell_type": "markdown",
   "id": "6a30fb0f",
   "metadata": {},
   "source": [
    "Revenue dipped a little in 2017 before picking back up in 2017."
   ]
  },
  {
   "cell_type": "code",
   "execution_count": 14,
   "id": "900271cd",
   "metadata": {},
   "outputs": [
    {
     "data": {
      "image/png": "[encoded data removed]",
      "text/plain": [
       "<Figure size 648x288 with 1 Axes>"
      ]
     },
     "metadata": {
      "needs_background": "light"
     },
     "output_type": "display_data"
    }
   ],
   "source": [
    "results = df.groupby(\"year\").mean()\n",
    "years = [year for year, df in df.groupby(\"year\")]\n",
    "plt.figure(figsize = (9,4))\n",
    "plt.bar(years, results[\"net_revenue\"], color = \"green\",\n",
    "       width = .5)\n",
    "plt.ylabel(\"Net Revenue\", fontsize = 14)\n",
    "plt.xlabel(\"Year\", fontsize = 14)\n",
    "plt.title(\"Average Spending over Year\", fontsize = 15)\n",
    "plt.show()"
   ]
  },
  {
   "cell_type": "markdown",
   "id": "da702d79",
   "metadata": {},
   "source": [
    "Average spending did not change from year to year. "
   ]
  }
 ],
 "metadata": {
  "kernelspec": {
   "display_name": "Python 3",
   "language": "python",
   "name": "python3"
  },
  "language_info": {
   "codemirror_mode": {
    "name": "ipython",
    "version": 3
   },
   "file_extension": ".py",
   "mimetype": "text/x-python",
   "name": "python",
   "nbconvert_exporter": "python",
   "pygments_lexer": "ipython3",
   "version": "3.7.11"
  }
 },
 "nbformat": 4,
 "nbformat_minor": 5
}
